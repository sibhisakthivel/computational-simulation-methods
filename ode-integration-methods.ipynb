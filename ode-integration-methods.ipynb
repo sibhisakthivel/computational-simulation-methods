{
 "cells": [
  {
   "cell_type": "markdown",
   "id": "39635859-8651-446a-9e9a-2f9e3edc1398",
   "metadata": {},
   "source": [
    "# Problem Set 04 - Chem 273\n",
    "## Finite Differences"
   ]
  },
  {
   "cell_type": "markdown",
   "id": "6d61e612-9f5e-4fbf-a95e-4f30bbee6107",
   "metadata": {},
   "source": [
    "**1) Motivation**"
   ]
  },
  {
   "cell_type": "markdown",
   "id": "db7704f4-badc-480f-a3ec-0fadcd330774",
   "metadata": {},
   "source": [
    "Finite differences are very important for running simulations. The idea of this exercise is to familiarize you with the dynamics of a simulation starting with this toy example."
   ]
  },
  {
   "cell_type": "markdown",
   "id": "c1b6b4a0-9107-4790-9283-43976d13ebd9",
   "metadata": {},
   "source": [
    "<br>"
   ]
  },
  {
   "cell_type": "markdown",
   "id": "0b8ab7dc-f8c4-4b7b-83a4-3dadd862e623",
   "metadata": {},
   "source": [
    "**2) Preparation**"
   ]
  },
  {
   "cell_type": "markdown",
   "id": "e580e006-328d-479f-ae1c-1bdd923489a7",
   "metadata": {},
   "source": [
    "The goal is to track the simple motion of a particle. We first start with Newton's equation of motion<br>\n",
    "<br>\n",
    "$x(t+\\Delta t) = x(t) + v_x(t)\\, \\Delta t + \\frac{1}{2}a_x(t)\\, \\Delta t^2$<br>\n",
    "<br>\n",
    "$v_x(t+\\Delta t) = v_x(t) + a_x(t)\\, \\Delta t$<br>\n",
    "<br>\n",
    "where $\\Delta t$ is the time step, $v$ the velocity, $a$ the acceleration and $x$ the location of the particle.<br>\n",
    "Given some initial conditions for $v_0$, $a_0$ and $x_0$ at $t=0$, we can calculate each value $a(t)$, $v(t)$ and $x(t)$ for any given $t$."
   ]
  },
  {
   "cell_type": "markdown",
   "id": "a375d868-44b7-4c08-bc3d-c8eb7ad4fab5",
   "metadata": {},
   "source": [
    "<br>"
   ]
  },
  {
   "cell_type": "markdown",
   "id": "32c07b04-01ee-4ae5-8ab4-63bcd21bcc6d",
   "metadata": {},
   "source": [
    "**3) Exercise**"
   ]
  },
  {
   "cell_type": "markdown",
   "id": "898cbbcb-67e8-4f5d-ac83-c2167759ac9d",
   "metadata": {},
   "source": [
    "- Write a python script using *def* that calculates $x$, $v$ and $a$ for each time point $t$. Start with $v_0 = 1$, $x_0 = 0$. We want to model the accleration as a function of $x$ as follows:<br>\n",
    "<br>\n",
    "$a = -c\\,x^2$<br>\n",
    "<br>\n",
    "with a constant $c$ that scales how strong the force applies to the particle.<br>"
   ]
  },
  {
   "cell_type": "markdown",
   "id": "2245e878-9740-4415-b8a9-a3e497df6bb6",
   "metadata": {},
   "source": [
    "- Run the simulation with $\\Delta t = 0.001$ and $c = 1$ for $N = 20\\,000$ steps.\n",
    "- Save each value for $x(t)$, $v(t)$ and $a(t)$ in a matrix $M$.\n",
    "- Important: the acceleration needs to point inwards in order to keep the particle on a stable \"orbit\". Therefore <br>\n",
    "<br>\n",
    "a  = - c*x**2 * np.sign(x)<br>"
   ]
  },
  {
   "cell_type": "markdown",
   "id": "32de45a2-ea4e-4be3-a4d0-0628be62adfa",
   "metadata": {},
   "source": [
    "- The script should generate a scatter plot for each 100th iteration $n$ if $n>600$ of the current location (x-axis) vs current velocity (y-axis) in order to track the particle. You should observe a circular motion if everything is done correctly. In order to see the effect of motion, you can use the following plotting routine:<br>"
   ]
  },
  {
   "cell_type": "code",
   "execution_count": null,
   "id": "b8267932-9c69-4f25-8dc7-66b779c78722",
   "metadata": {},
   "outputs": [],
   "source": [
    "#each 100th iteration\n",
    "    \n",
    "    #if n > 600\n",
    "        plt.scatter(M[n-600,0], M[n-600,1], 30, marker = 'o', color = [0.8, 0.8, 0.8])\n",
    "        plt.scatter(M[n-300,0], M[n-300,1], 30, marker = 'o', color = [0.5, 0.5, 0.5])\n",
    "        plt.scatter(M[n-100,0], M[n-100,1], 30, marker = 'o', color = [0.2, 0.2, 0.2])\n",
    "    plt.scatter(x, v, 30, marker = 'o', color = 'black')\n",
    "    plt.title('after N = ' + str(n) + ' iterations')\n",
    "    plt.xlabel('location')\n",
    "    plt.ylabel('velocity')\n",
    "    plt.xlim([-10, 10])\n",
    "    plt.ylim([-10, 10])\n",
    "    plt.show()"
   ]
  },
  {
   "cell_type": "markdown",
   "id": "ce18e535-da34-4613-9b83-7a3a402dc9e2",
   "metadata": {},
   "source": [
    "- Experiment with different values for $v_0$ and $c$."
   ]
  },
  {
   "cell_type": "code",
   "execution_count": null,
   "id": "d6af4294-83f3-4c4a-8c00-1cc369f66237",
   "metadata": {},
   "outputs": [],
   "source": [
    "import numpy as np\n",
    "import matplotlib.pyplot as plt\n",
    "\n",
    "\n",
    "def Particle(x: float = 0, v: float = 1, c: float = 1, N: int = 20000,\\\n",
    "            dt: float = 0.001):\n",
    "    \n",
    "    M  = np.zeros((N,3))\n",
    "    \n",
    "    a = - c*x**2 * np.sign(x)\n",
    "    \n",
    "    for n in range(N):\n",
    "        x += v*dt + 0.5*a*dt**2\n",
    "        v += a*dt\n",
    "        a  = - c*x**2 * np.sign(x)\n",
    "        \n",
    "        M[n,:] = [x, v, a]\n",
    "\n",
    "        if not n %100:\n",
    "            \n",
    "            if n > 600:\n",
    "                plt.scatter(M[n-600,0], M[n-600,1], 30, marker = 'o', color = [0.8, 0.8, 0.8])\n",
    "                plt.scatter(M[n-300,0], M[n-300,1], 30, marker = 'o', color = [0.5, 0.5, 0.5])\n",
    "                plt.scatter(M[n-100,0], M[n-100,1], 30, marker = 'o', color = [0.2, 0.2, 0.2])\n",
    "            plt.scatter(x, v, 30, marker = 'o', color = 'black')\n",
    "            plt.title('after N = ' + str(n) + ' iterations')\n",
    "            plt.xlabel('location')\n",
    "            plt.ylabel('velocity')\n",
    "            plt.xlim([-10, 10])\n",
    "            plt.ylim([-10, 10])\n",
    "            plt.show()\n",
    "            \n",
    "    plt.plot(M[:,0], M[:,1], linewidth = 3, alpha = 0.2, color = 'black')\n",
    "    plt.xlabel('location')\n",
    "    plt.ylabel('speed') \n",
    "    plt.show()"
   ]
  },
  {
   "cell_type": "code",
   "execution_count": null,
   "id": "812b7d65-8c41-4b31-aa08-40258d04226d",
   "metadata": {},
   "outputs": [],
   "source": [
    "Particle(v = 5)"
   ]
  }
 ],
 "metadata": {
  "kernelspec": {
   "display_name": "Python 3 (ipykernel)",
   "language": "python",
   "name": "python3"
  },
  "language_info": {
   "codemirror_mode": {
    "name": "ipython",
    "version": 3
   },
   "file_extension": ".py",
   "mimetype": "text/x-python",
   "name": "python",
   "nbconvert_exporter": "python",
   "pygments_lexer": "ipython3",
   "version": "3.11.7"
  }
 },
 "nbformat": 4,
 "nbformat_minor": 5
}
