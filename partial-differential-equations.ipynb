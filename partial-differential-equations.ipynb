{
 "cells": [
  {
   "cell_type": "markdown",
   "id": "39635859-8651-446a-9e9a-2f9e3edc1398",
   "metadata": {},
   "source": [
    "# Problem Set 12 - Chem 273\n",
    "## Boltzmann Distribution\n",
    "<br>"
   ]
  },
  {
   "cell_type": "markdown",
   "id": "6d61e612-9f5e-4fbf-a95e-4f30bbee6107",
   "metadata": {},
   "source": [
    "**1) Motivation**"
   ]
  },
  {
   "cell_type": "markdown",
   "id": "db7704f4-badc-480f-a3ec-0fadcd330774",
   "metadata": {},
   "source": [
    "The Boltzmann distribution is among the most important distributions in physics. Not only that the Boltzmann distribution is used widely in statistical physics (which methods are also used in machine learning algorithm development), we worked with the Boltzmann distribution already when running a Monte Carlo Simulation using the Metropolis algorithm in the context of modelling particles in the Lennard-Jones potential. But also for ANNs, the Boltzmann distribution is used for generating classification probabilities in a so-called softmax layer.<br>\n",
    "Because of its importance, we want to derive the Boltzmann distribution in order to understand it and thereby practice the application of Lagrangian Multipliers again."
   ]
  },
  {
   "cell_type": "markdown",
   "id": "c1b6b4a0-9107-4790-9283-43976d13ebd9",
   "metadata": {},
   "source": [
    "<br>"
   ]
  },
  {
   "cell_type": "markdown",
   "id": "0b8ab7dc-f8c4-4b7b-83a4-3dadd862e623",
   "metadata": {},
   "source": [
    "**2) Preparation**"
   ]
  },
  {
   "cell_type": "markdown",
   "id": "269aadd7-8188-410b-a442-4ef1645350f1",
   "metadata": {},
   "source": [
    "The Boltzmann distribution can be derived from **maximum entropy**, where the entropy S is<br>\n",
    "<br>\n",
    "$S = -\\sum_i p_i\\, ln(p_i)$<br>\n",
    "<br>\n",
    "with the constrain<br>\n",
    "<br>\n",
    "$P = \\sum_i p_i = 1$<br>\n",
    "<br>\n",
    "Imagine we have a certain number of particles trapped in a 1D system. We want to calculate the probability $p_i$ of a particle having a certain energy $\\epsilon_i$. What is new now is that if the system we want to model is physically meaningful, the **total energy** $E_{tot}$ has to be conserved. This implies another constrain<br>\n",
    "<br>\n",
    "$E_{tot} = \\sum_i \\epsilon_i\\,p_i = E$<br>\n",
    "<br>\n",
    "We solve the problem by starting with the definition of the **Lagrangian**<br>\n",
    "<br>\n",
    "$L(x_1,..,x_i,...,x_N,\\lambda_1,...,\\lambda_k,...\\lambda_M) = f(x_1,..,x_i,...,x_N) + \\sum_{k=1}^M \\lambda_k \\,g_k(x_1,..,x_i,...,x_N)$<br>\n",
    "<br>\n",
    "Which in our case is now<br>\n",
    "<br>\n",
    "$L(p_1,..,p_i,...,p_N,\\lambda_1,\\lambda_2) = S(p_1,..,p_i,...,p_N) + \\lambda_1 \\,P(p_1,..,p_i,...,p_N) + \\lambda_2 \\,E(p_1,..,p_i,...,p_N)$<br>\n",
    "<br>\n",
    "From that, we find that:<br>\n",
    "<br>\n",
    "$\\frac{\\partial S}{\\partial p_i} = \\lambda_1\\, \\frac{\\partial P}{\\partial p_i} + \\lambda_2\\, \\frac{\\partial E}{\\partial p_i}$"
   ]
  },
  {
   "cell_type": "markdown",
   "id": "a375d868-44b7-4c08-bc3d-c8eb7ad4fab5",
   "metadata": {},
   "source": [
    "<br>"
   ]
  },
  {
   "cell_type": "markdown",
   "id": "32c07b04-01ee-4ae5-8ab4-63bcd21bcc6d",
   "metadata": {},
   "source": [
    "**3) Exercise**"
   ]
  },
  {
   "attachments": {},
   "cell_type": "markdown",
   "id": "8e057b5e-578a-444b-9c6f-52bb4ea06b2d",
   "metadata": {},
   "source": [
    "Derive $p_i$ by using Lagrangian Multipliers. Use the constrain $P$ in order to eliminate $\\lambda_1$. You can submit your answer either as a pdf generated from a ipynb file or generated from carefully handwritten notes.<br>\n",
    "Hint: the result is<br>\n",
    "<br>\n",
    "$p_i = \\frac{1}{Z}e^{-\\lambda_2\\, \\epsilon_i}$<br>\n",
    "<br>\n",
    "Where $Z=\\sum_i\\,e^{-\\lambda_2\\, \\epsilon_i}$ is a normalization constant (called partition function).<br>\n",
    "<br>\n",
    "In physics, one can show that $\\lambda_2 = \\frac{1}{kT}$. Compare your result to what you have learned in module 10!"
   ]
  },
  {
   "cell_type": "markdown",
   "id": "980d129e-a178-4c9a-95eb-597f775cdc8f",
   "metadata": {},
   "source": [
    "From <br>\n",
    "<br>\n",
    "$\\frac{\\partial S}{\\partial p_i} = \\lambda_1\\, \\frac{\\partial P}{\\partial p_i} + \\lambda_2\\, \\frac{\\partial E}{\\partial p_i}$<br>\n",
    "<br>\n",
    "we find that:<br>\n",
    "<br>\n",
    "$-ln(p_i) - 1 = \\lambda_1 +  \\lambda_2\\,\\epsilon_i$"
   ]
  },
  {
   "cell_type": "markdown",
   "id": "630ea861-ebd2-458b-adcf-6e8da2388659",
   "metadata": {},
   "source": [
    "This leads to<br>\n",
    "<br>\n",
    "$p_i = e^{-\\lambda_1+1}\\,e^{-\\lambda_2\\, \\epsilon_i}$<br>"
   ]
  },
  {
   "cell_type": "markdown",
   "id": "4e6c22c4-7736-4174-bfea-04bd8581c734",
   "metadata": {},
   "source": [
    "The constrain $\\sum_i p_i = 1$ leads to<br>\n",
    "<br>\n",
    "$\\sum_i e^{-\\lambda_1+1}\\,e^{-\\lambda_2\\, \\epsilon_i} = e^{-\\lambda_1+1}\\,\\sum_i e^{-\\lambda_2\\, \\epsilon_i}$<br>\n",
    "<br>\n",
    "and therefore<br>"
   ]
  },
  {
   "cell_type": "markdown",
   "id": "51ddfb89-c844-49c3-9cda-72476de24306",
   "metadata": {},
   "source": [
    "$e^{-\\lambda_1+1}\\,\\sum_i e^{-\\lambda_2\\, \\epsilon_i} = 1$<br>\n",
    "<br>\n",
    "$p_i = \\frac{1}{\\sum_i e^{-\\lambda_2\\, \\epsilon_i}}e^{-\\lambda_2\\, \\epsilon_i}$"
   ]
  }
 ],
 "metadata": {
  "kernelspec": {
   "display_name": "Python 3 (ipykernel)",
   "language": "python",
   "name": "python3"
  },
  "language_info": {
   "codemirror_mode": {
    "name": "ipython",
    "version": 3
   },
   "file_extension": ".py",
   "mimetype": "text/x-python",
   "name": "python",
   "nbconvert_exporter": "python",
   "pygments_lexer": "ipython3",
   "version": "3.11.7"
  }
 },
 "nbformat": 4,
 "nbformat_minor": 5
}
