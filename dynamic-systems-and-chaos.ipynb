{
 "cells": [
  {
   "cell_type": "markdown",
   "id": "39635859-8651-446a-9e9a-2f9e3edc1398",
   "metadata": {},
   "source": [
    "# Problem Set 08 - Chem 273\n",
    "## Statistics and Simulations"
   ]
  },
  {
   "cell_type": "markdown",
   "id": "6d61e612-9f5e-4fbf-a95e-4f30bbee6107",
   "metadata": {},
   "source": [
    "**1) Motivation**"
   ]
  },
  {
   "cell_type": "markdown",
   "id": "db7704f4-badc-480f-a3ec-0fadcd330774",
   "metadata": {},
   "source": [
    "For many simulations it is important to apply certain statistical rules in order to make the code more efficient. In this problem set we want to guide you through a simple example."
   ]
  },
  {
   "cell_type": "markdown",
   "id": "c1b6b4a0-9107-4790-9283-43976d13ebd9",
   "metadata": {},
   "source": [
    "<br>"
   ]
  },
  {
   "cell_type": "markdown",
   "id": "0b8ab7dc-f8c4-4b7b-83a4-3dadd862e623",
   "metadata": {},
   "source": [
    "**2) Preparation**"
   ]
  },
  {
   "cell_type": "markdown",
   "id": "e580e006-328d-479f-ae1c-1bdd923489a7",
   "metadata": {},
   "source": [
    "Consider the chemical reaction:<br>\n",
    "<br>\n",
    "$A \\xrightarrow{\\tau} \\Phi$<br>\n",
    "<br>\n",
    "In case we have many particles $A$, we can just write down the corresponding differential equation<br>\n",
    "<br>\n",
    "$\\frac{dA}{dt} = - A\\,\\tau$<br>\n",
    "<br>\n",
    "and integrate it, which leads to the solution<br>\n",
    "<br>\n",
    "$A(t) = A_0\\, e^{-\\tau\\,t}$"
   ]
  },
  {
   "cell_type": "markdown",
   "id": "675b5893-8ffe-4136-b5fb-a98c925f286a",
   "metadata": {},
   "source": [
    "However, that only makes sense for many particles. Imagine we want to model the same process for just $N = 10$ or $N = 20$ particles. Each time we would run the experiment, the plot $N(t)$ looks different, because it is completely random which particle decays and **when** a particle decays, even if the rate $\\tau$ is constant. Moreover, at the beginning, when there are many particles, decays occur more often, whereas towards the end, decays will become more rare and the time $\\Delta t$ between two decay events increases.<br>\n",
    "How can we model this stochastic behaviour? <br>\n",
    "The number of decays in a given time interval $\\Delta t$ is a natural number, which automatically leads via maximum entropy to the Poisson distribution (see also table $\\href{https://en.wikipedia.org/wiki/Maximum_entropy_probability_distribution}{here}$). Thus the probability of having $k$ events within $\\Delta t$ given $\\tau$ equals<br>\n",
    "<br>\n",
    "$P(k|\\tau) = \\frac{\\left(\\tau \\Delta t \\right)^k}{k!}\\,exp\\left(- \\tau \\Delta t\\right)$<br>\n",
    "<br>\n",
    "Knowing that it is a poissonian process, one can calculate the time that elapses **between** two events, i. e. $k = 0$, which leads to<br>\n",
    "<br>\n",
    "$\\Delta t = - \\frac{1}{\\tau} ln\\left[P(0|\\tau) \\right]$"
   ]
  },
  {
   "cell_type": "markdown",
   "id": "2d79aec1-fa3e-4e2d-92ca-c1a28110c7cc",
   "metadata": {},
   "source": [
    "The equation above applies for a single particle. In case of $N$ particles, it reads<br>\n",
    "<br>\n",
    "$\\Delta t = - \\frac{1}{\\tau\\, N(t)} ln\\left[P(0|\\tau) \\right]$<br>\n",
    "<br>\n",
    "because any of those $N$ particles can undergo such a decay!"
   ]
  },
  {
   "cell_type": "markdown",
   "id": "0ac62a41-c51f-4e96-805f-fc7b0d0f5b7b",
   "metadata": {},
   "source": [
    "This equation gives us the time interval between two decays if there are $N(t)$ particles. After one decay the system contains $N(t + \\Delta t) = N(t) - 1$ particles, which changes the denominator in the above equation. Thus, for each timepoint we now can calculate $\\Delta t$. This technique is called *Gillespie Algorithm*."
   ]
  },
  {
   "cell_type": "markdown",
   "id": "a375d868-44b7-4c08-bc3d-c8eb7ad4fab5",
   "metadata": {},
   "source": [
    "<br>"
   ]
  },
  {
   "cell_type": "markdown",
   "id": "32c07b04-01ee-4ae5-8ab4-63bcd21bcc6d",
   "metadata": {},
   "source": [
    "**3) Exercise**"
   ]
  },
  {
   "cell_type": "markdown",
   "id": "0401c406-981f-4ce2-a5b2-91d92ec09d08",
   "metadata": {},
   "source": [
    "Write a code that simulates the decay of $N$ particles using the *Gillespie Algorithm*. The code should also create plot similar to the one below:"
   ]
  },
  {
   "attachments": {
    "26f99ddc-4804-4468-98a5-6d83ccd8fdd5.png": {
     "image/png": "[encoded data removed]"
    }
   },
   "cell_type": "markdown",
   "id": "b65b7685-0598-4745-8a31-b93b1299b498",
   "metadata": {},
   "source": [
    "![image.png](attachment:26f99ddc-4804-4468-98a5-6d83ccd8fdd5.png)"
   ]
  },
  {
   "cell_type": "markdown",
   "id": "6db3f6d4-d12b-4816-9039-21a0869f3bd7",
   "metadata": {},
   "source": [
    "Use the *pyplot* method *stairs* for the plot. Write two versions of the code: one that uses a loop for calculating $\\Delta t$, one that works without any loop. Generate plots for different $N = 5, 10, 20, 50, 100, 500$ and run the code several times for the same $N$. What do you observe? Experiment with different values fot $\\tau$ too. "
   ]
  },
  {
   "cell_type": "code",
   "execution_count": 1,
   "id": "1c0e46ff-7fbf-4f25-be72-b527afd21e07",
   "metadata": {},
   "outputs": [],
   "source": [
    "import matplotlib.pyplot as plt\n",
    "import numpy as np\n",
    "\n",
    "\n",
    "def ReactionLoop(N: int = 100, tau: float = 1):\n",
    "    \n",
    "    T = np.zeros((N,))\n",
    "    \n",
    "    for i, n in enumerate(reversed(range(N))):\n",
    "        r    = np.random.uniform(0,1)\n",
    "        dt   = - np.log(r)/n/tau\n",
    "        T[i] = dt\n",
    "        \n",
    "    plt.stairs(-np.arange(0, N-1) + N-1, np.cumsum(T), color = 'r',\\\n",
    "               baseline = None)\n",
    "        \n",
    "    plt.xlabel('time')\n",
    "    plt.ylabel('N(t)')"
   ]
  },
  {
   "cell_type": "code",
   "execution_count": 3,
   "id": "87770cc8-030f-4224-9165-846a64bdb4aa",
   "metadata": {},
   "outputs": [],
   "source": [
    "import matplotlib.pyplot as plt\n",
    "import numpy as np\n",
    "\n",
    "\n",
    "def ReactionNoLoop(N: int = 100, tau: float = 1):\n",
    "    \n",
    "    R    = np.random.uniform(0, 1, (N,))\n",
    "    Nvec = -np.arange(0, N) + N\n",
    "    T    = - np.log(R)/Nvec/tau\n",
    "    \n",
    "        \n",
    "    plt.stairs(Nvec[:-1], np.cumsum(T), color = 'r',\\\n",
    "               baseline = None)\n",
    "        \n",
    "    plt.xlabel('time')\n",
    "    plt.ylabel('N(t)')"
   ]
  },
  {
   "cell_type": "code",
   "execution_count": 5,
   "id": "c3038921-0c87-44fa-8ec7-d4eeb1471d13",
   "metadata": {},
   "outputs": [
    {
     "name": "stderr",
     "output_type": "stream",
     "text": [
      "C:\\Users\\MMH_user\\AppData\\Local\\Temp\\ipykernel_21716\\2174648616.py:11: RuntimeWarning: divide by zero encountered in scalar divide\n",
      "  dt   = - np.log(r)/n/tau\n"
     ]
    },
    {
     "data": {
      "image/png": "[encoded data removed]",
      "text/plain": [
       "<Figure size 640x480 with 1 Axes>"
      ]
     },
     "metadata": {},
     "output_type": "display_data"
    }
   ],
   "source": [
    "ReactionLoop()"
   ]
  },
  {
   "cell_type": "code",
   "execution_count": 7,
   "id": "87aeb5d4-4104-4fea-8969-3c8cd943ea4e",
   "metadata": {},
   "outputs": [
    {
     "data": {
      "image/png": "[encoded data removed]",
      "text/plain": [
       "<Figure size 640x480 with 1 Axes>"
      ]
     },
     "metadata": {},
     "output_type": "display_data"
    }
   ],
   "source": [
    "ReactionNoLoop()"
   ]
  },
  {
   "cell_type": "code",
   "execution_count": null,
   "id": "6ea503e0-ee8c-427e-b802-85a7c31cb1c3",
   "metadata": {},
   "outputs": [],
   "source": []
  }
 ],
 "metadata": {
  "kernelspec": {
   "display_name": "Python 3 (ipykernel)",
   "language": "python",
   "name": "python3"
  },
  "language_info": {
   "codemirror_mode": {
    "name": "ipython",
    "version": 3
   },
   "file_extension": ".py",
   "mimetype": "text/x-python",
   "name": "python",
   "nbconvert_exporter": "python",
   "pygments_lexer": "ipython3",
   "version": "3.11.7"
  }
 },
 "nbformat": 4,
 "nbformat_minor": 5
}
